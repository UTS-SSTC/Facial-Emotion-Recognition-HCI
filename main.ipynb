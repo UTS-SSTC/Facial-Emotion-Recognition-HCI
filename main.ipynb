{
 "cells": [
  {
   "cell_type": "markdown",
   "id": "cb16ed5fe23e8c25",
   "metadata": {},
   "source": [
    "# Facial-Emotion-Recogntion-HCL"
   ]
  },
  {
   "cell_type": "markdown",
   "id": "c49bf76f5eb3f241",
   "metadata": {},
   "source": [
    "## Environment\n",
    "\n",
    "### System\n",
    "\n",
    "- Os: Windows 11 64bit\n",
    "- Python: 3.11.9\n",
    "\n",
    "### Package\n",
    "\n",
    "- pytorch: cu126 \n",
    "- ipykernel: 6.29.5\n",
    "- pandas: 2.2.2\n",
    "- Pillow: 10.3.0\n",
    "- tqdm: 4.66.4\n",
    "- opencv-python: 4.11.0\n",
    "- albumentations: 2.06"
   ]
  },
  {
   "cell_type": "markdown",
   "id": "bb620b1c91ec022d",
   "metadata": {},
   "source": [
    "### Import libraries"
   ]
  },
  {
   "metadata": {},
   "cell_type": "code",
   "source": [
    "import scripts.augment as sa\n",
    "import scripts.preprocessing as sp\n",
    "import scripts.evaluate as ev"
   ],
   "id": "4ad6eb058eadc563",
   "outputs": [],
   "execution_count": null
  },
  {
   "cell_type": "markdown",
   "id": "62aff0cafbbe021d",
   "metadata": {},
   "source": [
    "### Define constant"
   ]
  },
  {
   "metadata": {},
   "cell_type": "code",
   "source": [
    "# === Define paths ===\n",
    "affectnet_raw_path = \"./data/affectnet/\" \n",
    "processed_root_path = \"./data/processed/\"  \n",
    "processed_metadata_csv = \"./data/processed/train.csv\"  \n",
    "augmented_root_path = \"./data/augmented/\"  \n",
    "augmented_metadata_csv = \"./data/augmented/train.csv\"  \n",
    "\n",
    "# === Define preprocessing & augmentation parameters ===\n",
    "img_size = (224, 224)   \n",
    "rename_images = True   \n",
    "dry_run = False       \n",
    "augment_target_per_class = 8000    \n",
    "augment_severity = \"medium\"        "
   ],
   "id": "fd61e6492671168c",
   "outputs": [],
   "execution_count": null
  },
  {
   "cell_type": "markdown",
   "id": "919484768b8297ad",
   "metadata": {},
   "source": [
    "### Data preprocessing"
   ]
  },
  {
   "cell_type": "code",
   "execution_count": null,
   "id": "d3540934f4e9f296",
   "metadata": {},
   "outputs": [],
   "source": [
    "# Preprocess affectnet data\n",
    "processed_affectnet = sp.process_affectnet(\n",
    "    affectnet_root=affectnet_raw_path,\n",
    "    processed_root=processed_root_path,\n",
    "    img_size=img_size,\n",
    "    rename=rename_images,\n",
    "    rename_width=5,\n",
    "    dry_run=dry_run\n",
    ")"
   ]
  },
  {
   "cell_type": "markdown",
   "id": "8d622303fcf5d0e7",
   "metadata": {},
   "source": [
    "### Data augmentation"
   ]
  },
  {
   "metadata": {},
   "cell_type": "code",
   "source": [
    "# Augment affectnet training split\n",
    "augmented_affectnet = sa.augment_affectnet(\n",
    "    processed_root=processed_root_path,\n",
    "    aug_root=augmented_root_path,\n",
    "    target=augment_target_per_class,\n",
    "    severity=augment_severity\n",
    ")"
   ],
   "id": "e326a670b82cddde",
   "outputs": [],
   "execution_count": null
  }
 ],
 "metadata": {
  "kernelspec": {
   "display_name": "Facial-Emotion-Recognition-HCI",
   "language": "python",
   "name": "python3"
  },
  "language_info": {
   "codemirror_mode": {
    "name": "ipython",
    "version": 3
   },
   "file_extension": ".py",
   "mimetype": "text/x-python",
   "name": "python",
   "nbconvert_exporter": "python",
   "pygments_lexer": "ipython3",
   "version": "3.11.9"
  }
 },
 "nbformat": 4,
 "nbformat_minor": 5
}
