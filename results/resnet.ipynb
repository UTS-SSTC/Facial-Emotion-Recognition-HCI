{
 "cells": [
  {
   "cell_type": "markdown",
   "id": "cb16ed5fe23e8c25",
   "metadata": {},
   "source": [
    "# Facial-Emotion-Recogntion-HCL"
   ]
  },
  {
   "cell_type": "markdown",
   "id": "c49bf76f5eb3f241",
   "metadata": {},
   "source": [
    "## Environment\n",
    "\n",
    "### System\n",
    "\n",
    "- Os: Windows 11 64bit\n",
    "- Python: 3.11.9\n",
    "\n",
    "### Package\n",
    "\n",
    "- pytorch: cu126 \n",
    "- ipykernel: 6.29.5\n",
    "- pandas: 2.2.2\n",
    "- Pillow: 10.3.0\n",
    "- tqdm: 4.66.4\n",
    "- opencv-python: 4.11.0\n",
    "- albumentations: 2.06"
   ]
  },
  {
   "cell_type": "code",
   "execution_count": 10,
   "id": "537930d9-dbcd-4575-a5ea-23ee0f0f3881",
   "metadata": {
    "scrolled": true
   },
   "outputs": [
    {
     "name": "stdout",
     "output_type": "stream",
     "text": [
      "Reading package lists... Done\n",
      "Building dependency tree... Done\n",
      "Reading state information... Done\n",
      "libgl1 is already the newest version (1.4.0-1).\n",
      "libglib2.0-0 is already the newest version (2.72.4-0ubuntu2.4).\n",
      "0 upgraded, 0 newly installed, 0 to remove and 32 not upgraded.\n",
      "Found existing installation: torch 2.7.0\n",
      "Uninstalling torch-2.7.0:\n",
      "  Successfully uninstalled torch-2.7.0\n",
      "Found existing installation: torchvision 0.22.0\n",
      "Uninstalling torchvision-0.22.0:\n",
      "  Successfully uninstalled torchvision-0.22.0\n",
      "Requirement already satisfied: ipykernel==6.29.5 in /opt/conda/lib/python3.12/site-packages (from -r requirements/requirements-normal.txt (line 1)) (6.29.5)\n",
      "Requirement already satisfied: pandas==2.2.2 in /opt/conda/lib/python3.12/site-packages (from -r requirements/requirements-normal.txt (line 2)) (2.2.2)\n",
      "Requirement already satisfied: Pillow==10.3.0 in /opt/conda/lib/python3.12/site-packages (from -r requirements/requirements-normal.txt (line 3)) (10.3.0)\n",
      "Requirement already satisfied: tqdm==4.66.4 in /opt/conda/lib/python3.12/site-packages (from -r requirements/requirements-normal.txt (line 4)) (4.66.4)\n",
      "Requirement already satisfied: opencv-python==4.11.0.86 in /opt/conda/lib/python3.12/site-packages (from -r requirements/requirements-normal.txt (line 5)) (4.11.0.86)\n",
      "Requirement already satisfied: albumentations==2.0.6 in /opt/conda/lib/python3.12/site-packages (from -r requirements/requirements-normal.txt (line 6)) (2.0.6)\n",
      "Requirement already satisfied: timm==1.0.15 in /opt/conda/lib/python3.12/site-packages (from -r requirements/requirements-normal.txt (line 7)) (1.0.15)\n",
      "Requirement already satisfied: torchinfo==1.8.0 in /opt/conda/lib/python3.12/site-packages (from -r requirements/requirements-normal.txt (line 8)) (1.8.0)\n",
      "Requirement already satisfied: matplotlib==3.10.3 in /opt/conda/lib/python3.12/site-packages (from -r requirements/requirements-normal.txt (line 9)) (3.10.3)\n",
      "Requirement already satisfied: scikit-learn==1.6.1 in /opt/conda/lib/python3.12/site-packages (from -r requirements/requirements-normal.txt (line 10)) (1.6.1)\n",
      "Requirement already satisfied: seaborn==0.13.2 in /opt/conda/lib/python3.12/site-packages (from -r requirements/requirements-normal.txt (line 11)) (0.13.2)\n",
      "Requirement already satisfied: ipywidgets==8.1.7 in /opt/conda/lib/python3.12/site-packages (from -r requirements/requirements-normal.txt (line 12)) (8.1.7)\n",
      "Requirement already satisfied: lightgbm==4.6.0 in /opt/conda/lib/python3.12/site-packages (from -r requirements/requirements-normal.txt (line 13)) (4.6.0)\n",
      "Requirement already satisfied: comm>=0.1.1 in /opt/conda/lib/python3.12/site-packages (from ipykernel==6.29.5->-r requirements/requirements-normal.txt (line 1)) (0.2.2)\n",
      "Requirement already satisfied: debugpy>=1.6.5 in /opt/conda/lib/python3.12/site-packages (from ipykernel==6.29.5->-r requirements/requirements-normal.txt (line 1)) (1.8.14)\n",
      "Requirement already satisfied: ipython>=7.23.1 in /opt/conda/lib/python3.12/site-packages (from ipykernel==6.29.5->-r requirements/requirements-normal.txt (line 1)) (9.2.0)\n",
      "Requirement already satisfied: jupyter-client>=6.1.12 in /opt/conda/lib/python3.12/site-packages (from ipykernel==6.29.5->-r requirements/requirements-normal.txt (line 1)) (8.6.3)\n",
      "Requirement already satisfied: jupyter-core!=5.0.*,>=4.12 in /opt/conda/lib/python3.12/site-packages (from ipykernel==6.29.5->-r requirements/requirements-normal.txt (line 1)) (5.7.2)\n",
      "Requirement already satisfied: matplotlib-inline>=0.1 in /opt/conda/lib/python3.12/site-packages (from ipykernel==6.29.5->-r requirements/requirements-normal.txt (line 1)) (0.1.7)\n",
      "Requirement already satisfied: nest-asyncio in /opt/conda/lib/python3.12/site-packages (from ipykernel==6.29.5->-r requirements/requirements-normal.txt (line 1)) (1.6.0)\n",
      "Requirement already satisfied: packaging in /opt/conda/lib/python3.12/site-packages (from ipykernel==6.29.5->-r requirements/requirements-normal.txt (line 1)) (25.0)\n",
      "Requirement already satisfied: psutil in /opt/conda/lib/python3.12/site-packages (from ipykernel==6.29.5->-r requirements/requirements-normal.txt (line 1)) (7.0.0)\n",
      "Requirement already satisfied: pyzmq>=24 in /opt/conda/lib/python3.12/site-packages (from ipykernel==6.29.5->-r requirements/requirements-normal.txt (line 1)) (26.4.0)\n",
      "Requirement already satisfied: tornado>=6.1 in /opt/conda/lib/python3.12/site-packages (from ipykernel==6.29.5->-r requirements/requirements-normal.txt (line 1)) (6.5)\n",
      "Requirement already satisfied: traitlets>=5.4.0 in /opt/conda/lib/python3.12/site-packages (from ipykernel==6.29.5->-r requirements/requirements-normal.txt (line 1)) (5.14.3)\n",
      "Requirement already satisfied: numpy>=1.26.0 in /opt/conda/lib/python3.12/site-packages (from pandas==2.2.2->-r requirements/requirements-normal.txt (line 2)) (2.1.2)\n",
      "Requirement already satisfied: python-dateutil>=2.8.2 in /opt/conda/lib/python3.12/site-packages (from pandas==2.2.2->-r requirements/requirements-normal.txt (line 2)) (2.9.0.post0)\n",
      "Requirement already satisfied: pytz>=2020.1 in /opt/conda/lib/python3.12/site-packages (from pandas==2.2.2->-r requirements/requirements-normal.txt (line 2)) (2025.2)\n",
      "Requirement already satisfied: tzdata>=2022.7 in /opt/conda/lib/python3.12/site-packages (from pandas==2.2.2->-r requirements/requirements-normal.txt (line 2)) (2025.2)\n",
      "Requirement already satisfied: scipy>=1.10.0 in /opt/conda/lib/python3.12/site-packages (from albumentations==2.0.6->-r requirements/requirements-normal.txt (line 6)) (1.15.3)\n",
      "Requirement already satisfied: PyYAML in /opt/conda/lib/python3.12/site-packages (from albumentations==2.0.6->-r requirements/requirements-normal.txt (line 6)) (6.0.2)\n",
      "Requirement already satisfied: pydantic>=2.9.2 in /opt/conda/lib/python3.12/site-packages (from albumentations==2.0.6->-r requirements/requirements-normal.txt (line 6)) (2.11.4)\n",
      "Requirement already satisfied: albucore==0.0.24 in /opt/conda/lib/python3.12/site-packages (from albumentations==2.0.6->-r requirements/requirements-normal.txt (line 6)) (0.0.24)\n",
      "Requirement already satisfied: opencv-python-headless>=4.9.0.80 in /opt/conda/lib/python3.12/site-packages (from albumentations==2.0.6->-r requirements/requirements-normal.txt (line 6)) (4.11.0.86)\n",
      "Collecting torch (from timm==1.0.15->-r requirements/requirements-normal.txt (line 7))\n",
      "  Using cached torch-2.7.0-cp312-cp312-manylinux_2_28_x86_64.whl.metadata (29 kB)\n",
      "Collecting torchvision (from timm==1.0.15->-r requirements/requirements-normal.txt (line 7))\n",
      "  Using cached torchvision-0.22.0-cp312-cp312-manylinux_2_28_x86_64.whl.metadata (6.1 kB)\n",
      "Requirement already satisfied: huggingface_hub in /opt/conda/lib/python3.12/site-packages (from timm==1.0.15->-r requirements/requirements-normal.txt (line 7)) (0.31.4)\n",
      "Requirement already satisfied: safetensors in /opt/conda/lib/python3.12/site-packages (from timm==1.0.15->-r requirements/requirements-normal.txt (line 7)) (0.5.3)\n",
      "Requirement already satisfied: contourpy>=1.0.1 in /opt/conda/lib/python3.12/site-packages (from matplotlib==3.10.3->-r requirements/requirements-normal.txt (line 9)) (1.3.2)\n",
      "Requirement already satisfied: cycler>=0.10 in /opt/conda/lib/python3.12/site-packages (from matplotlib==3.10.3->-r requirements/requirements-normal.txt (line 9)) (0.12.1)\n",
      "Requirement already satisfied: fonttools>=4.22.0 in /opt/conda/lib/python3.12/site-packages (from matplotlib==3.10.3->-r requirements/requirements-normal.txt (line 9)) (4.58.0)\n",
      "Requirement already satisfied: kiwisolver>=1.3.1 in /opt/conda/lib/python3.12/site-packages (from matplotlib==3.10.3->-r requirements/requirements-normal.txt (line 9)) (1.4.8)\n",
      "Requirement already satisfied: pyparsing>=2.3.1 in /opt/conda/lib/python3.12/site-packages (from matplotlib==3.10.3->-r requirements/requirements-normal.txt (line 9)) (3.2.3)\n",
      "Requirement already satisfied: joblib>=1.2.0 in /opt/conda/lib/python3.12/site-packages (from scikit-learn==1.6.1->-r requirements/requirements-normal.txt (line 10)) (1.5.0)\n",
      "Requirement already satisfied: threadpoolctl>=3.1.0 in /opt/conda/lib/python3.12/site-packages (from scikit-learn==1.6.1->-r requirements/requirements-normal.txt (line 10)) (3.6.0)\n",
      "Requirement already satisfied: widgetsnbextension~=4.0.14 in /opt/conda/lib/python3.12/site-packages (from ipywidgets==8.1.7->-r requirements/requirements-normal.txt (line 12)) (4.0.14)\n",
      "Requirement already satisfied: jupyterlab_widgets~=3.0.15 in /opt/conda/lib/python3.12/site-packages (from ipywidgets==8.1.7->-r requirements/requirements-normal.txt (line 12)) (3.0.15)\n",
      "Requirement already satisfied: stringzilla>=3.10.4 in /opt/conda/lib/python3.12/site-packages (from albucore==0.0.24->albumentations==2.0.6->-r requirements/requirements-normal.txt (line 6)) (3.12.5)\n",
      "Requirement already satisfied: simsimd>=5.9.2 in /opt/conda/lib/python3.12/site-packages (from albucore==0.0.24->albumentations==2.0.6->-r requirements/requirements-normal.txt (line 6)) (6.2.1)\n",
      "Requirement already satisfied: decorator in /opt/conda/lib/python3.12/site-packages (from ipython>=7.23.1->ipykernel==6.29.5->-r requirements/requirements-normal.txt (line 1)) (5.2.1)\n",
      "Requirement already satisfied: ipython-pygments-lexers in /opt/conda/lib/python3.12/site-packages (from ipython>=7.23.1->ipykernel==6.29.5->-r requirements/requirements-normal.txt (line 1)) (1.1.1)\n",
      "Requirement already satisfied: jedi>=0.16 in /opt/conda/lib/python3.12/site-packages (from ipython>=7.23.1->ipykernel==6.29.5->-r requirements/requirements-normal.txt (line 1)) (0.19.2)\n",
      "Requirement already satisfied: pexpect>4.3 in /opt/conda/lib/python3.12/site-packages (from ipython>=7.23.1->ipykernel==6.29.5->-r requirements/requirements-normal.txt (line 1)) (4.9.0)\n",
      "Requirement already satisfied: prompt_toolkit<3.1.0,>=3.0.41 in /opt/conda/lib/python3.12/site-packages (from ipython>=7.23.1->ipykernel==6.29.5->-r requirements/requirements-normal.txt (line 1)) (3.0.51)\n",
      "Requirement already satisfied: pygments>=2.4.0 in /opt/conda/lib/python3.12/site-packages (from ipython>=7.23.1->ipykernel==6.29.5->-r requirements/requirements-normal.txt (line 1)) (2.19.1)\n",
      "Requirement already satisfied: stack_data in /opt/conda/lib/python3.12/site-packages (from ipython>=7.23.1->ipykernel==6.29.5->-r requirements/requirements-normal.txt (line 1)) (0.6.3)\n",
      "Requirement already satisfied: platformdirs>=2.5 in /opt/conda/lib/python3.12/site-packages (from jupyter-core!=5.0.*,>=4.12->ipykernel==6.29.5->-r requirements/requirements-normal.txt (line 1)) (4.3.8)\n",
      "Requirement already satisfied: annotated-types>=0.6.0 in /opt/conda/lib/python3.12/site-packages (from pydantic>=2.9.2->albumentations==2.0.6->-r requirements/requirements-normal.txt (line 6)) (0.7.0)\n",
      "Requirement already satisfied: pydantic-core==2.33.2 in /opt/conda/lib/python3.12/site-packages (from pydantic>=2.9.2->albumentations==2.0.6->-r requirements/requirements-normal.txt (line 6)) (2.33.2)\n",
      "Requirement already satisfied: typing-extensions>=4.12.2 in /opt/conda/lib/python3.12/site-packages (from pydantic>=2.9.2->albumentations==2.0.6->-r requirements/requirements-normal.txt (line 6)) (4.12.2)\n",
      "Requirement already satisfied: typing-inspection>=0.4.0 in /opt/conda/lib/python3.12/site-packages (from pydantic>=2.9.2->albumentations==2.0.6->-r requirements/requirements-normal.txt (line 6)) (0.4.0)\n",
      "Requirement already satisfied: six>=1.5 in /opt/conda/lib/python3.12/site-packages (from python-dateutil>=2.8.2->pandas==2.2.2->-r requirements/requirements-normal.txt (line 2)) (1.17.0)\n",
      "Requirement already satisfied: filelock in /opt/conda/lib/python3.12/site-packages (from huggingface_hub->timm==1.0.15->-r requirements/requirements-normal.txt (line 7)) (3.13.1)\n",
      "Requirement already satisfied: fsspec>=2023.5.0 in /opt/conda/lib/python3.12/site-packages (from huggingface_hub->timm==1.0.15->-r requirements/requirements-normal.txt (line 7)) (2024.6.1)\n",
      "Requirement already satisfied: requests in /opt/conda/lib/python3.12/site-packages (from huggingface_hub->timm==1.0.15->-r requirements/requirements-normal.txt (line 7)) (2.32.3)\n",
      "Requirement already satisfied: setuptools in /opt/conda/lib/python3.12/site-packages (from torch->timm==1.0.15->-r requirements/requirements-normal.txt (line 7)) (70.2.0)\n",
      "Requirement already satisfied: sympy>=1.13.3 in /opt/conda/lib/python3.12/site-packages (from torch->timm==1.0.15->-r requirements/requirements-normal.txt (line 7)) (1.13.3)\n",
      "Requirement already satisfied: networkx in /opt/conda/lib/python3.12/site-packages (from torch->timm==1.0.15->-r requirements/requirements-normal.txt (line 7)) (3.3)\n",
      "Requirement already satisfied: jinja2 in /opt/conda/lib/python3.12/site-packages (from torch->timm==1.0.15->-r requirements/requirements-normal.txt (line 7)) (3.1.4)\n",
      "Requirement already satisfied: nvidia-cuda-nvrtc-cu12==12.6.77 in /opt/conda/lib/python3.12/site-packages (from torch->timm==1.0.15->-r requirements/requirements-normal.txt (line 7)) (12.6.77)\n",
      "Requirement already satisfied: nvidia-cuda-runtime-cu12==12.6.77 in /opt/conda/lib/python3.12/site-packages (from torch->timm==1.0.15->-r requirements/requirements-normal.txt (line 7)) (12.6.77)\n",
      "Requirement already satisfied: nvidia-cuda-cupti-cu12==12.6.80 in /opt/conda/lib/python3.12/site-packages (from torch->timm==1.0.15->-r requirements/requirements-normal.txt (line 7)) (12.6.80)\n",
      "Requirement already satisfied: nvidia-cudnn-cu12==9.5.1.17 in /opt/conda/lib/python3.12/site-packages (from torch->timm==1.0.15->-r requirements/requirements-normal.txt (line 7)) (9.5.1.17)\n",
      "Requirement already satisfied: nvidia-cublas-cu12==12.6.4.1 in /opt/conda/lib/python3.12/site-packages (from torch->timm==1.0.15->-r requirements/requirements-normal.txt (line 7)) (12.6.4.1)\n",
      "Requirement already satisfied: nvidia-cufft-cu12==11.3.0.4 in /opt/conda/lib/python3.12/site-packages (from torch->timm==1.0.15->-r requirements/requirements-normal.txt (line 7)) (11.3.0.4)\n",
      "Requirement already satisfied: nvidia-curand-cu12==10.3.7.77 in /opt/conda/lib/python3.12/site-packages (from torch->timm==1.0.15->-r requirements/requirements-normal.txt (line 7)) (10.3.7.77)\n",
      "Requirement already satisfied: nvidia-cusolver-cu12==11.7.1.2 in /opt/conda/lib/python3.12/site-packages (from torch->timm==1.0.15->-r requirements/requirements-normal.txt (line 7)) (11.7.1.2)\n",
      "Requirement already satisfied: nvidia-cusparse-cu12==12.5.4.2 in /opt/conda/lib/python3.12/site-packages (from torch->timm==1.0.15->-r requirements/requirements-normal.txt (line 7)) (12.5.4.2)\n",
      "Requirement already satisfied: nvidia-cusparselt-cu12==0.6.3 in /opt/conda/lib/python3.12/site-packages (from torch->timm==1.0.15->-r requirements/requirements-normal.txt (line 7)) (0.6.3)\n",
      "Requirement already satisfied: nvidia-nccl-cu12==2.26.2 in /opt/conda/lib/python3.12/site-packages (from torch->timm==1.0.15->-r requirements/requirements-normal.txt (line 7)) (2.26.2)\n",
      "Requirement already satisfied: nvidia-nvtx-cu12==12.6.77 in /opt/conda/lib/python3.12/site-packages (from torch->timm==1.0.15->-r requirements/requirements-normal.txt (line 7)) (12.6.77)\n",
      "Requirement already satisfied: nvidia-nvjitlink-cu12==12.6.85 in /opt/conda/lib/python3.12/site-packages (from torch->timm==1.0.15->-r requirements/requirements-normal.txt (line 7)) (12.6.85)\n",
      "Requirement already satisfied: nvidia-cufile-cu12==1.11.1.6 in /opt/conda/lib/python3.12/site-packages (from torch->timm==1.0.15->-r requirements/requirements-normal.txt (line 7)) (1.11.1.6)\n",
      "Requirement already satisfied: triton==3.3.0 in /opt/conda/lib/python3.12/site-packages (from torch->timm==1.0.15->-r requirements/requirements-normal.txt (line 7)) (3.3.0)\n",
      "Requirement already satisfied: parso<0.9.0,>=0.8.4 in /opt/conda/lib/python3.12/site-packages (from jedi>=0.16->ipython>=7.23.1->ipykernel==6.29.5->-r requirements/requirements-normal.txt (line 1)) (0.8.4)\n",
      "Requirement already satisfied: ptyprocess>=0.5 in /opt/conda/lib/python3.12/site-packages (from pexpect>4.3->ipython>=7.23.1->ipykernel==6.29.5->-r requirements/requirements-normal.txt (line 1)) (0.7.0)\n",
      "Requirement already satisfied: wcwidth in /opt/conda/lib/python3.12/site-packages (from prompt_toolkit<3.1.0,>=3.0.41->ipython>=7.23.1->ipykernel==6.29.5->-r requirements/requirements-normal.txt (line 1)) (0.2.13)\n",
      "Requirement already satisfied: mpmath<1.4,>=1.1.0 in /opt/conda/lib/python3.12/site-packages (from sympy>=1.13.3->torch->timm==1.0.15->-r requirements/requirements-normal.txt (line 7)) (1.3.0)\n",
      "Requirement already satisfied: MarkupSafe>=2.0 in /opt/conda/lib/python3.12/site-packages (from jinja2->torch->timm==1.0.15->-r requirements/requirements-normal.txt (line 7)) (2.1.5)\n",
      "Requirement already satisfied: charset-normalizer<4,>=2 in /opt/conda/lib/python3.12/site-packages (from requests->huggingface_hub->timm==1.0.15->-r requirements/requirements-normal.txt (line 7)) (3.4.2)\n",
      "Requirement already satisfied: idna<4,>=2.5 in /opt/conda/lib/python3.12/site-packages (from requests->huggingface_hub->timm==1.0.15->-r requirements/requirements-normal.txt (line 7)) (3.10)\n",
      "Requirement already satisfied: urllib3<3,>=1.21.1 in /opt/conda/lib/python3.12/site-packages (from requests->huggingface_hub->timm==1.0.15->-r requirements/requirements-normal.txt (line 7)) (2.4.0)\n",
      "Requirement already satisfied: certifi>=2017.4.17 in /opt/conda/lib/python3.12/site-packages (from requests->huggingface_hub->timm==1.0.15->-r requirements/requirements-normal.txt (line 7)) (2025.4.26)\n",
      "Requirement already satisfied: executing>=1.2.0 in /opt/conda/lib/python3.12/site-packages (from stack_data->ipython>=7.23.1->ipykernel==6.29.5->-r requirements/requirements-normal.txt (line 1)) (2.2.0)\n",
      "Requirement already satisfied: asttokens>=2.1.0 in /opt/conda/lib/python3.12/site-packages (from stack_data->ipython>=7.23.1->ipykernel==6.29.5->-r requirements/requirements-normal.txt (line 1)) (3.0.0)\n",
      "Requirement already satisfied: pure-eval in /opt/conda/lib/python3.12/site-packages (from stack_data->ipython>=7.23.1->ipykernel==6.29.5->-r requirements/requirements-normal.txt (line 1)) (0.2.3)\n",
      "Using cached torch-2.7.0-cp312-cp312-manylinux_2_28_x86_64.whl (865.0 MB)\n",
      "Using cached torchvision-0.22.0-cp312-cp312-manylinux_2_28_x86_64.whl (7.4 MB)\n",
      "Installing collected packages: torch, torchvision\n",
      "\u001b[31mERROR: pip's dependency resolver does not currently take into account all the packages that are installed. This behaviour is the source of the following dependency conflicts.\n",
      "autogluon-multimodal 1.2 requires nvidia-ml-py3==7.352.0, which is not installed.\n",
      "autogluon-multimodal 1.2 requires jsonschema<4.22,>=4.18, but you have jsonschema 4.23.0 which is incompatible.\n",
      "autogluon-multimodal 1.2 requires nltk<3.9,>=3.4.5, but you have nltk 3.9.1 which is incompatible.\n",
      "autogluon-multimodal 1.2 requires omegaconf<2.3.0,>=2.1.1, but you have omegaconf 2.3.0 which is incompatible.\n",
      "autogluon-multimodal 1.2 requires scikit-learn<1.5.3,>=1.4.0, but you have scikit-learn 1.6.1 which is incompatible.\n",
      "autogluon-multimodal 1.2 requires timm<1.0.7,>=0.9.5, but you have timm 1.0.15 which is incompatible.\n",
      "autogluon-multimodal 1.2 requires torch<2.6,>=2.2, but you have torch 2.7.0 which is incompatible.\n",
      "autogluon-multimodal 1.2 requires torchvision<0.21.0,>=0.16.0, but you have torchvision 0.22.0 which is incompatible.\n",
      "autogluon-timeseries 1.2 requires torch<2.6,>=2.2, but you have torch 2.7.0 which is incompatible.\n",
      "fastai 2.7.19 requires torch<2.7,>=1.10, but you have torch 2.7.0 which is incompatible.\n",
      "lightning 2.5.1 requires packaging<25.0,>=20.0, but you have packaging 25.0 which is incompatible.\u001b[0m\u001b[31m\n",
      "\u001b[0mSuccessfully installed torch-2.7.0 torchvision-0.22.0\n",
      "Looking in indexes: https://download.pytorch.org/whl/cu126\n",
      "Requirement already satisfied: torch in /opt/conda/lib/python3.12/site-packages (from -r requirements/requirements-pytorch.txt (line 2)) (2.7.0)\n",
      "Requirement already satisfied: torchvision in /opt/conda/lib/python3.12/site-packages (from -r requirements/requirements-pytorch.txt (line 3)) (0.22.0)\n",
      "Requirement already satisfied: torchaudio in /opt/conda/lib/python3.12/site-packages (from -r requirements/requirements-pytorch.txt (line 4)) (2.7.0+cu126)\n",
      "Requirement already satisfied: filelock in /opt/conda/lib/python3.12/site-packages (from torch->-r requirements/requirements-pytorch.txt (line 2)) (3.13.1)\n",
      "Requirement already satisfied: typing-extensions>=4.10.0 in /opt/conda/lib/python3.12/site-packages (from torch->-r requirements/requirements-pytorch.txt (line 2)) (4.12.2)\n",
      "Requirement already satisfied: setuptools in /opt/conda/lib/python3.12/site-packages (from torch->-r requirements/requirements-pytorch.txt (line 2)) (70.2.0)\n",
      "Requirement already satisfied: sympy>=1.13.3 in /opt/conda/lib/python3.12/site-packages (from torch->-r requirements/requirements-pytorch.txt (line 2)) (1.13.3)\n",
      "Requirement already satisfied: networkx in /opt/conda/lib/python3.12/site-packages (from torch->-r requirements/requirements-pytorch.txt (line 2)) (3.3)\n",
      "Requirement already satisfied: jinja2 in /opt/conda/lib/python3.12/site-packages (from torch->-r requirements/requirements-pytorch.txt (line 2)) (3.1.4)\n",
      "Requirement already satisfied: fsspec in /opt/conda/lib/python3.12/site-packages (from torch->-r requirements/requirements-pytorch.txt (line 2)) (2024.6.1)\n",
      "Requirement already satisfied: nvidia-cuda-nvrtc-cu12==12.6.77 in /opt/conda/lib/python3.12/site-packages (from torch->-r requirements/requirements-pytorch.txt (line 2)) (12.6.77)\n",
      "Requirement already satisfied: nvidia-cuda-runtime-cu12==12.6.77 in /opt/conda/lib/python3.12/site-packages (from torch->-r requirements/requirements-pytorch.txt (line 2)) (12.6.77)\n",
      "Requirement already satisfied: nvidia-cuda-cupti-cu12==12.6.80 in /opt/conda/lib/python3.12/site-packages (from torch->-r requirements/requirements-pytorch.txt (line 2)) (12.6.80)\n",
      "Requirement already satisfied: nvidia-cudnn-cu12==9.5.1.17 in /opt/conda/lib/python3.12/site-packages (from torch->-r requirements/requirements-pytorch.txt (line 2)) (9.5.1.17)\n",
      "Requirement already satisfied: nvidia-cublas-cu12==12.6.4.1 in /opt/conda/lib/python3.12/site-packages (from torch->-r requirements/requirements-pytorch.txt (line 2)) (12.6.4.1)\n",
      "Requirement already satisfied: nvidia-cufft-cu12==11.3.0.4 in /opt/conda/lib/python3.12/site-packages (from torch->-r requirements/requirements-pytorch.txt (line 2)) (11.3.0.4)\n",
      "Requirement already satisfied: nvidia-curand-cu12==10.3.7.77 in /opt/conda/lib/python3.12/site-packages (from torch->-r requirements/requirements-pytorch.txt (line 2)) (10.3.7.77)\n",
      "Requirement already satisfied: nvidia-cusolver-cu12==11.7.1.2 in /opt/conda/lib/python3.12/site-packages (from torch->-r requirements/requirements-pytorch.txt (line 2)) (11.7.1.2)\n",
      "Requirement already satisfied: nvidia-cusparse-cu12==12.5.4.2 in /opt/conda/lib/python3.12/site-packages (from torch->-r requirements/requirements-pytorch.txt (line 2)) (12.5.4.2)\n",
      "Requirement already satisfied: nvidia-cusparselt-cu12==0.6.3 in /opt/conda/lib/python3.12/site-packages (from torch->-r requirements/requirements-pytorch.txt (line 2)) (0.6.3)\n",
      "Requirement already satisfied: nvidia-nccl-cu12==2.26.2 in /opt/conda/lib/python3.12/site-packages (from torch->-r requirements/requirements-pytorch.txt (line 2)) (2.26.2)\n",
      "Requirement already satisfied: nvidia-nvtx-cu12==12.6.77 in /opt/conda/lib/python3.12/site-packages (from torch->-r requirements/requirements-pytorch.txt (line 2)) (12.6.77)\n",
      "Requirement already satisfied: nvidia-nvjitlink-cu12==12.6.85 in /opt/conda/lib/python3.12/site-packages (from torch->-r requirements/requirements-pytorch.txt (line 2)) (12.6.85)\n",
      "Requirement already satisfied: nvidia-cufile-cu12==1.11.1.6 in /opt/conda/lib/python3.12/site-packages (from torch->-r requirements/requirements-pytorch.txt (line 2)) (1.11.1.6)\n",
      "Requirement already satisfied: triton==3.3.0 in /opt/conda/lib/python3.12/site-packages (from torch->-r requirements/requirements-pytorch.txt (line 2)) (3.3.0)\n",
      "Requirement already satisfied: numpy in /opt/conda/lib/python3.12/site-packages (from torchvision->-r requirements/requirements-pytorch.txt (line 3)) (2.1.2)\n",
      "Requirement already satisfied: pillow!=8.3.*,>=5.3.0 in /opt/conda/lib/python3.12/site-packages (from torchvision->-r requirements/requirements-pytorch.txt (line 3)) (10.3.0)\n",
      "Requirement already satisfied: mpmath<1.4,>=1.1.0 in /opt/conda/lib/python3.12/site-packages (from sympy>=1.13.3->torch->-r requirements/requirements-pytorch.txt (line 2)) (1.3.0)\n",
      "Requirement already satisfied: MarkupSafe>=2.0 in /opt/conda/lib/python3.12/site-packages (from jinja2->torch->-r requirements/requirements-pytorch.txt (line 2)) (2.1.5)\n"
     ]
    }
   ],
   "source": [
    "!sudo apt-get install -y libgl1 libglib2.0-0\n",
    "!pip uninstall torch torchvision -y\n",
    "!pip install -r requirements/requirements-normal.txt\n",
    "!pip install -r requirements/requirements-pytorch.txt"
   ]
  },
  {
   "cell_type": "code",
   "execution_count": 11,
   "id": "e478239b-f4dd-4a42-915a-2cf520a2a974",
   "metadata": {},
   "outputs": [],
   "source": [
    "import warnings\n",
    "import pandas as pd\n",
    "\n",
    "warnings.filterwarnings(\"ignore\", category=UserWarning)\n",
    "warnings.filterwarnings(\"ignore\", category=pd.errors.SettingWithCopyWarning)"
   ]
  },
  {
   "cell_type": "markdown",
   "id": "bb620b1c91ec022d",
   "metadata": {},
   "source": [
    "### Import libraries"
   ]
  },
  {
   "cell_type": "code",
   "execution_count": 12,
   "id": "4ad6eb058eadc563",
   "metadata": {},
   "outputs": [],
   "source": [
    "import torch\n",
    "import gc\n",
    "\n",
    "import scripts.augment as sa\n",
    "import scripts.preprocessing as sp\n",
    "import scripts.evaluate as ev\n",
    "import scripts.model as md\n",
    "import scripts.backbone as b"
   ]
  },
  {
   "cell_type": "markdown",
   "id": "62aff0cafbbe021d",
   "metadata": {},
   "source": [
    "### Define constant"
   ]
  },
  {
   "cell_type": "code",
   "execution_count": 13,
   "id": "fd61e6492671168c",
   "metadata": {},
   "outputs": [],
   "source": [
    "# === Define paths ===\n",
    "affectnet_raw_path = \"./data/affectnet/\" \n",
    "processed_root_path = \"./data/processed/\"  \n",
    "processed_metadata_csv = \"./data/processed/train.csv\"  \n",
    "augmented_root_path = \"./data/augmented/\"  \n",
    "augmented_metadata_csv = \"./data/augmented/train.csv\"  \n",
    "\n",
    "# === Define preprocessing & augmentation parameters ===\n",
    "img_size = (224, 224)   \n",
    "rename_images = True   \n",
    "dry_run = False       \n",
    "augment_target_per_class = 8000    \n",
    "augment_severity = \"medium\"        "
   ]
  },
  {
   "cell_type": "markdown",
   "id": "919484768b8297ad",
   "metadata": {},
   "source": [
    "### Data preprocessing"
   ]
  },
  {
   "cell_type": "code",
   "execution_count": null,
   "id": "d3540934f4e9f296",
   "metadata": {},
   "outputs": [],
   "source": [
    "# Preprocess affectnet data\n",
    "processed_affectnet = sp.process_affectnet(\n",
    "    affectnet_root=affectnet_raw_path,\n",
    "    processed_root=processed_root_path,\n",
    "    img_size=img_size,\n",
    "    rename=rename_images,\n",
    "    rename_width=5,\n",
    "    dry_run=dry_run\n",
    ")"
   ]
  },
  {
   "cell_type": "markdown",
   "id": "8d622303fcf5d0e7",
   "metadata": {},
   "source": [
    "### Data augmentation"
   ]
  },
  {
   "cell_type": "code",
   "execution_count": null,
   "id": "e326a670b82cddde",
   "metadata": {},
   "outputs": [],
   "source": [
    "# Augment affectnet training split\n",
    "augmented_affectnet = sa.augment_affectnet(\n",
    "    processed_root=processed_root_path,\n",
    "    aug_root=augmented_root_path,\n",
    "    target=augment_target_per_class,\n",
    "    severity=augment_severity\n",
    ")"
   ]
  },
  {
   "cell_type": "markdown",
   "id": "208f8228580b2fa4",
   "metadata": {},
   "source": [
    "### Model training and evaluate"
   ]
  },
  {
   "cell_type": "code",
   "execution_count": 14,
   "id": "6ecbf78ebead20a3",
   "metadata": {},
   "outputs": [
    {
     "name": "stdout",
     "output_type": "stream",
     "text": [
      "[✓] Train: 44800 | Val: 9600 | Test: 9600\n",
      "\n",
      "=== Training pipeline for microsoft/resnet-50 ===\n",
      "[INFO] Loading classification and base vision models: microsoft/resnet-50 on cuda\n",
      "Fine-tuning microsoft/resnet-50...\n",
      "[INFO] Fine-tuning 14,981,128/23,524,424 params (63.68%)\n"
     ]
    },
    {
     "name": "stderr",
     "output_type": "stream",
     "text": [
      "Epoch 1/20: 100%|██████████| 700/700 [02:55<00:00,  4.00it/s]\n"
     ]
    },
    {
     "name": "stdout",
     "output_type": "stream",
     "text": [
      "Epoch 1: Train 2.0657, Val 2.0472, Acc 0.2172\n"
     ]
    },
    {
     "name": "stderr",
     "output_type": "stream",
     "text": [
      "Epoch 2/20: 100%|██████████| 700/700 [02:44<00:00,  4.25it/s]\n"
     ]
    },
    {
     "name": "stdout",
     "output_type": "stream",
     "text": [
      "Epoch 2: Train 1.8815, Val 1.7543, Acc 0.3231\n"
     ]
    },
    {
     "name": "stderr",
     "output_type": "stream",
     "text": [
      "Epoch 3/20: 100%|██████████| 700/700 [02:44<00:00,  4.25it/s]\n"
     ]
    },
    {
     "name": "stdout",
     "output_type": "stream",
     "text": [
      "Epoch 3: Train 1.7510, Val 1.6907, Acc 0.3497\n"
     ]
    },
    {
     "name": "stderr",
     "output_type": "stream",
     "text": [
      "Epoch 4/20: 100%|██████████| 700/700 [02:44<00:00,  4.25it/s]\n"
     ]
    },
    {
     "name": "stdout",
     "output_type": "stream",
     "text": [
      "Epoch 4: Train 1.6966, Val 1.6487, Acc 0.3696\n"
     ]
    },
    {
     "name": "stderr",
     "output_type": "stream",
     "text": [
      "Epoch 5/20: 100%|██████████| 700/700 [02:44<00:00,  4.25it/s]\n"
     ]
    },
    {
     "name": "stdout",
     "output_type": "stream",
     "text": [
      "Epoch 5: Train 1.6603, Val 1.6089, Acc 0.3871\n"
     ]
    },
    {
     "name": "stderr",
     "output_type": "stream",
     "text": [
      "Epoch 6/20: 100%|██████████| 700/700 [02:44<00:00,  4.24it/s]\n"
     ]
    },
    {
     "name": "stdout",
     "output_type": "stream",
     "text": [
      "Epoch 6: Train 1.6308, Val 1.5863, Acc 0.3997\n"
     ]
    },
    {
     "name": "stderr",
     "output_type": "stream",
     "text": [
      "Epoch 7/20: 100%|██████████| 700/700 [02:44<00:00,  4.25it/s]\n"
     ]
    },
    {
     "name": "stdout",
     "output_type": "stream",
     "text": [
      "Epoch 7: Train 1.6137, Val 1.5764, Acc 0.4005\n"
     ]
    },
    {
     "name": "stderr",
     "output_type": "stream",
     "text": [
      "Epoch 8/20: 100%|██████████| 700/700 [02:44<00:00,  4.25it/s]\n"
     ]
    },
    {
     "name": "stdout",
     "output_type": "stream",
     "text": [
      "Epoch 8: Train 1.5916, Val 1.5518, Acc 0.4108\n"
     ]
    },
    {
     "name": "stderr",
     "output_type": "stream",
     "text": [
      "Epoch 9/20: 100%|██████████| 700/700 [02:44<00:00,  4.25it/s]\n"
     ]
    },
    {
     "name": "stdout",
     "output_type": "stream",
     "text": [
      "Epoch 9: Train 1.5772, Val 1.5436, Acc 0.4169\n"
     ]
    },
    {
     "name": "stderr",
     "output_type": "stream",
     "text": [
      "Epoch 10/20: 100%|██████████| 700/700 [02:44<00:00,  4.25it/s]\n"
     ]
    },
    {
     "name": "stdout",
     "output_type": "stream",
     "text": [
      "Epoch 10: Train 1.5603, Val 1.5318, Acc 0.4218\n"
     ]
    },
    {
     "name": "stderr",
     "output_type": "stream",
     "text": [
      "Epoch 11/20: 100%|██████████| 700/700 [02:44<00:00,  4.25it/s]\n"
     ]
    },
    {
     "name": "stdout",
     "output_type": "stream",
     "text": [
      "Epoch 11: Train 1.5516, Val 1.5201, Acc 0.4259\n"
     ]
    },
    {
     "name": "stderr",
     "output_type": "stream",
     "text": [
      "Epoch 12/20: 100%|██████████| 700/700 [02:44<00:00,  4.25it/s]\n"
     ]
    },
    {
     "name": "stdout",
     "output_type": "stream",
     "text": [
      "Epoch 12: Train 1.5411, Val 1.5105, Acc 0.4288\n"
     ]
    },
    {
     "name": "stderr",
     "output_type": "stream",
     "text": [
      "Epoch 13/20: 100%|██████████| 700/700 [02:44<00:00,  4.26it/s]\n"
     ]
    },
    {
     "name": "stdout",
     "output_type": "stream",
     "text": [
      "Epoch 13: Train 1.5347, Val 1.5067, Acc 0.4304\n"
     ]
    },
    {
     "name": "stderr",
     "output_type": "stream",
     "text": [
      "Epoch 14/20: 100%|██████████| 700/700 [02:44<00:00,  4.25it/s]\n"
     ]
    },
    {
     "name": "stdout",
     "output_type": "stream",
     "text": [
      "Epoch 14: Train 1.5283, Val 1.5031, Acc 0.4325\n"
     ]
    },
    {
     "name": "stderr",
     "output_type": "stream",
     "text": [
      "Epoch 15/20: 100%|██████████| 700/700 [02:44<00:00,  4.25it/s]\n"
     ]
    },
    {
     "name": "stdout",
     "output_type": "stream",
     "text": [
      "Epoch 15: Train 1.5276, Val 1.4972, Acc 0.4349\n"
     ]
    },
    {
     "name": "stderr",
     "output_type": "stream",
     "text": [
      "Epoch 16/20: 100%|██████████| 700/700 [02:44<00:00,  4.25it/s]\n"
     ]
    },
    {
     "name": "stdout",
     "output_type": "stream",
     "text": [
      "Epoch 16: Train 1.5215, Val 1.4971, Acc 0.4327\n"
     ]
    },
    {
     "name": "stderr",
     "output_type": "stream",
     "text": [
      "Epoch 17/20: 100%|██████████| 700/700 [02:44<00:00,  4.25it/s]\n"
     ]
    },
    {
     "name": "stdout",
     "output_type": "stream",
     "text": [
      "Epoch 17: Train 1.5143, Val 1.4940, Acc 0.4369\n"
     ]
    },
    {
     "name": "stderr",
     "output_type": "stream",
     "text": [
      "Epoch 18/20: 100%|██████████| 700/700 [02:44<00:00,  4.25it/s]\n"
     ]
    },
    {
     "name": "stdout",
     "output_type": "stream",
     "text": [
      "Epoch 18: Train 1.5194, Val 1.4945, Acc 0.4363\n"
     ]
    },
    {
     "name": "stderr",
     "output_type": "stream",
     "text": [
      "Epoch 19/20: 100%|██████████| 700/700 [02:44<00:00,  4.24it/s]\n"
     ]
    },
    {
     "name": "stdout",
     "output_type": "stream",
     "text": [
      "Epoch 19: Train 1.5167, Val 1.4943, Acc 0.4363\n"
     ]
    },
    {
     "name": "stderr",
     "output_type": "stream",
     "text": [
      "Epoch 20/20: 100%|██████████| 700/700 [02:44<00:00,  4.25it/s]\n"
     ]
    },
    {
     "name": "stdout",
     "output_type": "stream",
     "text": [
      "Epoch 20: Train 1.5111, Val 1.4943, Acc 0.4363\n",
      "Training hybrid model for microsoft/resnet-50...\n",
      "[INFO] Extracting features for train set\n",
      "[INFO] Extracting features for val set\n",
      "[INFO] Training LightGBM classifier with 44800 samples\n",
      "Training until validation scores don't improve for 20 rounds\n",
      "Did not meet early stopping. Best iteration is:\n",
      "[99]\ttrain's multi_logloss: 1.12635\tvalid's multi_logloss: 1.50932\n",
      "[INFO] Training completed in 226.68 seconds\n",
      "Evaluating hybrid model for microsoft/resnet-50...\n",
      "[INFO] Extracting test features\n"
     ]
    },
    {
     "data": {
      "image/png": "[encoded data removed]",
      "text/plain": [
       "<Figure size 1000x800 with 2 Axes>"
      ]
     },
     "metadata": {},
     "output_type": "display_data"
    },
    {
     "name": "stdout",
     "output_type": "stream",
     "text": [
      "[INFO] Fine-tuned model saved to models/microsoft_resnet-50/deit_model\n",
      "[INFO] Model saved to models/microsoft_resnet-50\n",
      "Saved model to models/microsoft_resnet-50\n",
      "\n",
      "=== Training pipeline for microsoft/resnet-152 ===\n",
      "[INFO] Loading classification and base vision models: microsoft/resnet-152 on cuda\n"
     ]
    },
    {
     "data": {
      "application/vnd.jupyter.widget-view+json": {
       "model_id": "ed6a9f3b6e5a4519a9ce77286b69fef3",
       "version_major": 2,
       "version_minor": 0
      },
      "text/plain": [
       "config.json:   0%|          | 0.00/69.6k [00:00<?, ?B/s]"
      ]
     },
     "metadata": {},
     "output_type": "display_data"
    },
    {
     "data": {
      "application/vnd.jupyter.widget-view+json": {
       "model_id": "08c245df105c47ed823cbc8a6e2f0f4b",
       "version_major": 2,
       "version_minor": 0
      },
      "text/plain": [
       "model.safetensors:   0%|          | 0.00/242M [00:00<?, ?B/s]"
      ]
     },
     "metadata": {},
     "output_type": "display_data"
    },
    {
     "name": "stdout",
     "output_type": "stream",
     "text": [
      "Fine-tuning microsoft/resnet-152...\n",
      "[INFO] Fine-tuning 14,981,128/58,160,200 params (25.76%)\n"
     ]
    },
    {
     "name": "stderr",
     "output_type": "stream",
     "text": [
      "Epoch 1/20: 100%|██████████| 700/700 [05:42<00:00,  2.05it/s]\n"
     ]
    },
    {
     "name": "stdout",
     "output_type": "stream",
     "text": [
      "Epoch 1: Train 2.0635, Val 2.0312, Acc 0.2347\n"
     ]
    },
    {
     "name": "stderr",
     "output_type": "stream",
     "text": [
      "Epoch 2/20: 100%|██████████| 700/700 [05:20<00:00,  2.18it/s]\n"
     ]
    },
    {
     "name": "stdout",
     "output_type": "stream",
     "text": [
      "Epoch 2: Train 1.8289, Val 1.7149, Acc 0.3349\n"
     ]
    },
    {
     "name": "stderr",
     "output_type": "stream",
     "text": [
      "Epoch 3/20: 100%|██████████| 700/700 [05:20<00:00,  2.19it/s]\n"
     ]
    },
    {
     "name": "stdout",
     "output_type": "stream",
     "text": [
      "Epoch 3: Train 1.7228, Val 1.6580, Acc 0.3648\n"
     ]
    },
    {
     "name": "stderr",
     "output_type": "stream",
     "text": [
      "Epoch 4/20: 100%|██████████| 700/700 [05:20<00:00,  2.18it/s]\n"
     ]
    },
    {
     "name": "stdout",
     "output_type": "stream",
     "text": [
      "Epoch 4: Train 1.6742, Val 1.6193, Acc 0.3821\n"
     ]
    },
    {
     "name": "stderr",
     "output_type": "stream",
     "text": [
      "Epoch 5/20: 100%|██████████| 700/700 [05:20<00:00,  2.19it/s]\n"
     ]
    },
    {
     "name": "stdout",
     "output_type": "stream",
     "text": [
      "Epoch 5: Train 1.6405, Val 1.5784, Acc 0.3995\n"
     ]
    },
    {
     "name": "stderr",
     "output_type": "stream",
     "text": [
      "Epoch 6/20: 100%|██████████| 700/700 [05:20<00:00,  2.18it/s]\n"
     ]
    },
    {
     "name": "stdout",
     "output_type": "stream",
     "text": [
      "Epoch 6: Train 1.6118, Val 1.5601, Acc 0.4088\n"
     ]
    },
    {
     "name": "stderr",
     "output_type": "stream",
     "text": [
      "Epoch 7/20: 100%|██████████| 700/700 [05:20<00:00,  2.18it/s]\n"
     ]
    },
    {
     "name": "stdout",
     "output_type": "stream",
     "text": [
      "Epoch 7: Train 1.5862, Val 1.5453, Acc 0.4176\n"
     ]
    },
    {
     "name": "stderr",
     "output_type": "stream",
     "text": [
      "Epoch 8/20: 100%|██████████| 700/700 [05:20<00:00,  2.18it/s]\n"
     ]
    },
    {
     "name": "stdout",
     "output_type": "stream",
     "text": [
      "Epoch 8: Train 1.5699, Val 1.5249, Acc 0.4233\n"
     ]
    },
    {
     "name": "stderr",
     "output_type": "stream",
     "text": [
      "Epoch 9/20: 100%|██████████| 700/700 [05:20<00:00,  2.18it/s]\n"
     ]
    },
    {
     "name": "stdout",
     "output_type": "stream",
     "text": [
      "Epoch 9: Train 1.5514, Val 1.5145, Acc 0.4282\n"
     ]
    },
    {
     "name": "stderr",
     "output_type": "stream",
     "text": [
      "Epoch 10/20: 100%|██████████| 700/700 [05:20<00:00,  2.18it/s]\n"
     ]
    },
    {
     "name": "stdout",
     "output_type": "stream",
     "text": [
      "Epoch 10: Train 1.5396, Val 1.5075, Acc 0.4250\n"
     ]
    },
    {
     "name": "stderr",
     "output_type": "stream",
     "text": [
      "Epoch 11/20: 100%|██████████| 700/700 [05:20<00:00,  2.19it/s]\n"
     ]
    },
    {
     "name": "stdout",
     "output_type": "stream",
     "text": [
      "Epoch 11: Train 1.5256, Val 1.4939, Acc 0.4381\n"
     ]
    },
    {
     "name": "stderr",
     "output_type": "stream",
     "text": [
      "Epoch 12/20: 100%|██████████| 700/700 [05:20<00:00,  2.18it/s]\n"
     ]
    },
    {
     "name": "stdout",
     "output_type": "stream",
     "text": [
      "Epoch 12: Train 1.5146, Val 1.4876, Acc 0.4380\n"
     ]
    },
    {
     "name": "stderr",
     "output_type": "stream",
     "text": [
      "Epoch 13/20: 100%|██████████| 700/700 [05:20<00:00,  2.18it/s]\n"
     ]
    },
    {
     "name": "stdout",
     "output_type": "stream",
     "text": [
      "Epoch 13: Train 1.5033, Val 1.4798, Acc 0.4435\n"
     ]
    },
    {
     "name": "stderr",
     "output_type": "stream",
     "text": [
      "Epoch 14/20: 100%|██████████| 700/700 [05:20<00:00,  2.18it/s]\n"
     ]
    },
    {
     "name": "stdout",
     "output_type": "stream",
     "text": [
      "Epoch 14: Train 1.5026, Val 1.4739, Acc 0.4462\n"
     ]
    },
    {
     "name": "stderr",
     "output_type": "stream",
     "text": [
      "Epoch 15/20: 100%|██████████| 700/700 [05:20<00:00,  2.18it/s]\n"
     ]
    },
    {
     "name": "stdout",
     "output_type": "stream",
     "text": [
      "Epoch 15: Train 1.4912, Val 1.4708, Acc 0.4479\n"
     ]
    },
    {
     "name": "stderr",
     "output_type": "stream",
     "text": [
      "Epoch 16/20: 100%|██████████| 700/700 [05:20<00:00,  2.18it/s]\n"
     ]
    },
    {
     "name": "stdout",
     "output_type": "stream",
     "text": [
      "Epoch 16: Train 1.4886, Val 1.4682, Acc 0.4495\n"
     ]
    },
    {
     "name": "stderr",
     "output_type": "stream",
     "text": [
      "Epoch 17/20: 100%|██████████| 700/700 [05:20<00:00,  2.18it/s]\n"
     ]
    },
    {
     "name": "stdout",
     "output_type": "stream",
     "text": [
      "Epoch 17: Train 1.4884, Val 1.4674, Acc 0.4499\n"
     ]
    },
    {
     "name": "stderr",
     "output_type": "stream",
     "text": [
      "Epoch 18/20: 100%|██████████| 700/700 [05:20<00:00,  2.18it/s]\n"
     ]
    },
    {
     "name": "stdout",
     "output_type": "stream",
     "text": [
      "Epoch 18: Train 1.4840, Val 1.4663, Acc 0.4511\n"
     ]
    },
    {
     "name": "stderr",
     "output_type": "stream",
     "text": [
      "Epoch 19/20: 100%|██████████| 700/700 [05:20<00:00,  2.18it/s]\n"
     ]
    },
    {
     "name": "stdout",
     "output_type": "stream",
     "text": [
      "Epoch 19: Train 1.4833, Val 1.4661, Acc 0.4502\n"
     ]
    },
    {
     "name": "stderr",
     "output_type": "stream",
     "text": [
      "Epoch 20/20: 100%|██████████| 700/700 [05:20<00:00,  2.18it/s]\n"
     ]
    },
    {
     "name": "stdout",
     "output_type": "stream",
     "text": [
      "Epoch 20: Train 1.4810, Val 1.4662, Acc 0.4502\n",
      "Training hybrid model for microsoft/resnet-152...\n",
      "[INFO] Extracting features for train set\n",
      "[INFO] Extracting features for val set\n",
      "[INFO] Training LightGBM classifier with 44800 samples\n",
      "Training until validation scores don't improve for 20 rounds\n",
      "Did not meet early stopping. Best iteration is:\n",
      "[100]\ttrain's multi_logloss: 1.1055\tvalid's multi_logloss: 1.49141\n",
      "[INFO] Training completed in 226.99 seconds\n",
      "Evaluating hybrid model for microsoft/resnet-152...\n",
      "[INFO] Extracting test features\n"
     ]
    },
    {
     "data": {
      "image/png": "[encoded data removed]",
      "text/plain": [
       "<Figure size 1000x800 with 2 Axes>"
      ]
     },
     "metadata": {},
     "output_type": "display_data"
    },
    {
     "name": "stdout",
     "output_type": "stream",
     "text": [
      "[INFO] Fine-tuned model saved to models/microsoft_resnet-152/deit_model\n",
      "[INFO] Model saved to models/microsoft_resnet-152\n",
      "Saved model to models/microsoft_resnet-152\n",
      "All models trained and saved successfully.\n"
     ]
    }
   ],
   "source": [
    "device = torch.device(\"cuda\") if torch.cuda.is_available() else torch.device(\"cpu\")\n",
    "\n",
    "\n",
    "model_configs = [\n",
    "    # (\"facebook/deit-small-distilled-patch16-224\", 5),\n",
    "    # (\"facebook/deit-base-distilled-patch16-224\", 5),\n",
    "    (\"microsoft/resnet-50\", 20),\n",
    "    (\"microsoft/resnet-152\", 20),\n",
    "    # (\"timm/vit_small_patch16_224.augreg_in21k\", 5),\n",
    "    # (\"google/vit-base-patch16-224\", 5),\n",
    "]\n",
    "\n",
    "# Load data once\n",
    "data_loaders = ev.load_affectnet_data(augmented_metadata_csv)\n",
    "train_loader = data_loaders['train_loader']\n",
    "val_loader = data_loaders['val_loader']\n",
    "test_loader = data_loaders['test_loader']\n",
    "\n",
    "# Iterate and train each backbone + hybrid classifier\n",
    "for model_name, epochs in model_configs:\n",
    "    print(f\"\\n=== Training pipeline for {model_name} ===\")\n",
    "    # 1. Instantiate and fine-tune backbone\n",
    "    backbone = b.VisionFeatureExtractor(model_name=model_name, device=device)\n",
    "    print(f\"Fine-tuning {model_name}...\")\n",
    "\n",
    "    backbone.finetune(\n",
    "        train_loader,\n",
    "        val_loader,\n",
    "        num_classes=8,\n",
    "        epochs=epochs,\n",
    "        learning_rate=2e-5,\n",
    "        weight_decay=0.01\n",
    "    )\n",
    "\n",
    "    # Clear unused memory to prevent OOM\n",
    "    del backbone.classification_model\n",
    "    torch.cuda.empty_cache()\n",
    "    gc.collect()\n",
    "\n",
    "    # 2. Train hybrid classifier\n",
    "    classifier = md.LightGBMClassifier()\n",
    "    hybrid_model = md.HybridEmotionClassifier(backbone, classifier)\n",
    "    print(f\"Training hybrid model for {model_name}...\")\n",
    "    hybrid_model.train(train_loader, val_loader)\n",
    "\n",
    "    # 3. Evaluate on test set\n",
    "    print(f\"Evaluating hybrid model for {model_name}...\")\n",
    "    hybrid_model.evaluate(test_loader)\n",
    "\n",
    "    # 4. Save and cleanup\n",
    "    save_path = f\"models/{model_name.replace('/', '_')}\"\n",
    "    hybrid_model.save(save_path)\n",
    "    print(f\"Saved model to {save_path}\")\n",
    "\n",
    "    # Cleanup GPU memory\n",
    "    del backbone\n",
    "    del hybrid_model\n",
    "    torch.cuda.empty_cache()\n",
    "    gc.collect()\n",
    "\n",
    "print(\"All models trained and saved successfully.\")"
   ]
  },
  {
   "cell_type": "code",
   "execution_count": null,
   "id": "382114f688ea70f7",
   "metadata": {},
   "outputs": [],
   "source": []
  }
 ],
 "metadata": {
  "kernelspec": {
   "display_name": "Facial-Emotion-Recognition-HCI",
   "language": "python",
   "name": "python3"
  },
  "language_info": {
   "codemirror_mode": {
    "name": "ipython",
    "version": 3
   },
   "file_extension": ".py",
   "mimetype": "text/x-python",
   "name": "python",
   "nbconvert_exporter": "python",
   "pygments_lexer": "ipython3",
   "version": "3.11.9"
  }
 },
 "nbformat": 4,
 "nbformat_minor": 5
}
